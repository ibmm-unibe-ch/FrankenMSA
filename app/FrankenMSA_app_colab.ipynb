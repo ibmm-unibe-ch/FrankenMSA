{
  "nbformat": 4,
  "nbformat_minor": 0,
  "metadata": {
    "colab": {
      "provenance": [],
      "include_colab_link": true
    },
    "kernelspec": {
      "name": "python3",
      "display_name": "Python 3"
    },
    "language_info": {
      "name": "python"
    }
  },
  "cells": [
    {
      "cell_type": "markdown",
      "metadata": {
        "id": "view-in-github",
        "colab_type": "text"
      },
      "source": [
        "<a href=\"https://colab.research.google.com/github/ibmm-unibe-ch/FrankenMSA/blob/ngrok/app/FrankenMSA_app_colab.ipynb\" target=\"_parent\"><img src=\"https://colab.research.google.com/assets/colab-badge.svg\" alt=\"Open In Colab\"/></a>"
      ]
    },
    {
      "cell_type": "markdown",
      "source": [
        "![](https://github.com/ibmm-unibe-ch/FrankenMSA/blob/dev/app/assets/frankenmsa_header.png?raw=true)\n",
        "\n",
        "# [FrankenMSA](https://github.com/ibmm-unibe-ch/FrankenMSA/tree/main/)\n",
        "This notebook can run the [FrankenMSA App](https://github.com/ibmm-unibe-ch/FrankenMSA/tree/main/) to provide a graphical user interface for manipulating Multiple Sequence Alignments.\n",
        "\n",
        "We highly recommend to use an external window for best experience. Firefox users might need to use the [ngrok](https://ngrok.com/) option. Otherwise, the inline option might be used as a last option.\n",
        "\n",
        "Press the \"Runtime\" --> \"Run all\" once you made your selection or press \"Ctrl + F9\"."
      ],
      "metadata": {
        "id": "QwJ7GeDlwA1L"
      }
    },
    {
      "cell_type": "code",
      "source": [
        "WindowMode = 'ngrok' # @param [\"external\", \"inline\", \"ngrok\"] {allow-input: true}\n"
      ],
      "metadata": {
        "cellView": "form",
        "id": "IBakv3iY1MrV"
      },
      "execution_count": 1,
      "outputs": []
    },
    {
      "cell_type": "markdown",
      "source": [
        "# Code"
      ],
      "metadata": {
        "id": "43lV_LC833Bm"
      }
    },
    {
      "cell_type": "code",
      "execution_count": 2,
      "metadata": {
        "collapsed": true,
        "id": "69zwEOgNvTqd"
      },
      "outputs": [],
      "source": [
        "%%capture\n",
        "# clone and install the dependencies\n",
        "!git clone https://github.com/ibmm-unibe-ch/FrankenMSA\n",
        "!mv FrankenMSA/* .\n",
        "!pip install ."
      ]
    },
    {
      "cell_type": "code",
      "source": [
        "from app.app import app\n",
        "PORT = 8050 # the standard port used by Plotly Dash\n",
        "\n",
        "if WindowMode == \"external\":\n",
        "  app.run(jupyter_mode=\"external\", port=PORT, jupyter_height=\"800\")\n",
        "elif WindowMode == \"inline\":\n",
        "  app.run(jupyter_mode=\"external\", port=PORT, jupyter_height=\"800\")\n",
        "elif WindowMode == \"ngrok\":\n",
        "  !pip install pyngrok\n",
        "  from pyngrok import ngrok, conf\n",
        "  import getpass\n",
        "  print(\"Enter your authtoken, which can be copied from https://dashboard.ngrok.com/get-started/your-authtoken\")\n",
        "  conf.get_default().auth_token = getpass.getpass()\n",
        "  public_url = ngrok.connect(PORT).public_url\n",
        "  app.run(jupyter_mode=\"external\", port=PORT, jupyter_height=\"800\")\n",
        "  print(f\"Click this ngrok url {public_url}\")"
      ],
      "metadata": {
        "id": "iDnB2w1DvVfR"
      },
      "execution_count": null,
      "outputs": []
    }
  ]
}