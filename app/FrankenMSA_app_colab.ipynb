{
  "nbformat": 4,
  "nbformat_minor": 0,
  "metadata": {
    "colab": {
      "provenance": [],
      "authorship_tag": "ABX9TyM3LyqDwl/VDB+wqGb+cRjg",
      "include_colab_link": true
    },
    "kernelspec": {
      "name": "python3",
      "display_name": "Python 3"
    },
    "language_info": {
      "name": "python"
    }
  },
  "cells": [
    {
      "cell_type": "markdown",
      "metadata": {
        "id": "view-in-github",
        "colab_type": "text"
      },
      "source": [
        "<a href=\"https://colab.research.google.com/github/ibmm-unibe-ch/FrankenMSA/blob/dev/app/FrankenMSA_app_colab.ipynb\" target=\"_parent\"><img src=\"https://colab.research.google.com/assets/colab-badge.svg\" alt=\"Open In Colab\"/></a>"
      ]
    },
    {
      "cell_type": "markdown",
      "source": [
        "![](https://github.com/ibmm-unibe-ch/FrankenMSA/blob/dev/app/assets/frankenmsa_header.png?raw=true)\n",
        "\n",
        "### This notebook can run the FrankenMSA App to provide a graphical user interface for manipulating Multiple Sequence Alignments."
      ],
      "metadata": {
        "id": "QwJ7GeDlwA1L"
      }
    },
    {
      "cell_type": "code",
      "execution_count": null,
      "metadata": {
        "collapsed": true,
        "id": "69zwEOgNvTqd"
      },
      "outputs": [],
      "source": [
        "%%capture\n",
        "# clone and install the dependencies\n",
        "!git clone https://github.com/ibmm-unibe-ch/FrankenMSA\n",
        "!mv FrankenMSA/* .\n",
        "!pip install ."
      ]
    },
    {
      "cell_type": "code",
      "source": [
        "# the \"app\" object is just a normal \"Dash\" instance\n",
        "from app.app import app\n",
        "\n",
        "PORT = 8050 # the standard port used by Plotly Dash\n",
        "\n",
        "# use \"inline\" to use the app inside the notebook\n",
        "# but it is recommended to use the external view as a new tab\n",
        "inline = False\n",
        "\n",
        "app.run(jupyter_mode=\"inline\" if inline else \"external\", port=PORT, jupyter_height=\"800\")"
      ],
      "metadata": {
        "colab": {
          "base_uri": "https://localhost:8080/",
          "height": 88
        },
        "id": "iDnB2w1DvVfR",
        "outputId": "431f7c37-ce18-494c-944b-39a06521ae17"
      },
      "execution_count": 14,
      "outputs": [
        {
          "output_type": "stream",
          "name": "stdout",
          "text": [
            "Dash app running on:\n",
            "\u001b[31mWarning: This function may stop working due to changes in browser security.\n",
            "Try `serve_kernel_port_as_iframe` instead. \u001b[0m\n"
          ]
        },
        {
          "output_type": "display_data",
          "data": {
            "text/plain": [
              "<IPython.core.display.Javascript object>"
            ],
            "application/javascript": [
              "(async (port, path, text, element) => {\n",
              "    if (!google.colab.kernel.accessAllowed) {\n",
              "      return;\n",
              "    }\n",
              "    element.appendChild(document.createTextNode(''));\n",
              "    const url = await google.colab.kernel.proxyPort(port);\n",
              "    const anchor = document.createElement('a');\n",
              "    anchor.href = new URL(path, url).toString();\n",
              "    anchor.target = '_blank';\n",
              "    anchor.setAttribute('data-href', url + path);\n",
              "    anchor.textContent = text;\n",
              "    element.appendChild(anchor);\n",
              "  })(8050, \"/\", \"http://127.0.0.1:8050/\", window.element)"
            ]
          },
          "metadata": {}
        }
      ]
    },
    {
      "cell_type": "code",
      "source": [],
      "metadata": {
        "id": "IXZM-UHJyBrS"
      },
      "execution_count": null,
      "outputs": []
    }
  ]
}