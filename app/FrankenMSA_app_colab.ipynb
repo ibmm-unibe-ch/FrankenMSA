{
  "nbformat": 4,
  "nbformat_minor": 0,
  "metadata": {
    "colab": {
      "provenance": [],
      "include_colab_link": true
    },
    "kernelspec": {
      "name": "python3",
      "display_name": "Python 3"
    },
    "language_info": {
      "name": "python"
    }
  },
  "cells": [
    {
      "cell_type": "markdown",
      "metadata": {
        "id": "view-in-github",
        "colab_type": "text"
      },
      "source": [
        "<a href=\"https://colab.research.google.com/github/ibmm-unibe-ch/FrankenMSA/blob/ngrok/app/FrankenMSA_app_colab.ipynb\" target=\"_parent\"><img src=\"https://colab.research.google.com/assets/colab-badge.svg\" alt=\"Open In Colab\"/></a>"
      ]
    },
    {
      "cell_type": "markdown",
      "source": [
        "![](https://github.com/ibmm-unibe-ch/FrankenMSA/blob/dev/app/assets/frankenmsa_header.png?raw=true)\n",
        "\n",
        "# [FrankenMSA](https://github.com/ibmm-unibe-ch/FrankenMSA/tree/main/)\n",
        "This notebook can run the [FrankenMSA App](https://github.com/ibmm-unibe-ch/FrankenMSA/tree/main/) to provide a graphical user interface for manipulating Multiple Sequence Alignments.\n",
        "\n",
        "We highly recommend to use an external window for best experience. Firefox users might need to use the [ngrok](https://ngrok.com/) option. Otherwise, the inline option might be used as a last option.\n",
        "\n",
        "Press the \"Runtime\" --> \"Run all\" once you made your selection or press \"Ctrl + F9\"."
      ],
      "metadata": {
        "id": "QwJ7GeDlwA1L"
      }
    },
    {
      "cell_type": "code",
      "source": [
        "WindowMode = 'ngrok' # @param [\"external\", \"inline\", \"ngrok\"] {allow-input: true}\n"
      ],
      "metadata": {
        "cellView": "form",
        "id": "IBakv3iY1MrV"
      },
      "execution_count": 1,
      "outputs": []
    },
    {
      "cell_type": "markdown",
      "source": [
        "# Code"
      ],
      "metadata": {
        "id": "43lV_LC833Bm"
      }
    },
    {
      "cell_type": "code",
      "execution_count": 2,
      "metadata": {
        "collapsed": true,
        "id": "69zwEOgNvTqd"
      },
      "outputs": [],
      "source": [
        "%%capture\n",
        "# clone and install the dependencies\n",
        "!git clone https://github.com/ibmm-unibe-ch/FrankenMSA\n",
        "!mv FrankenMSA/* .\n",
        "!pip install ."
      ]
    },
    {
      "cell_type": "code",
      "source": [
        "from app.app import app\n",
        "PORT = 8050 # the standard port used by Plotly Dash\n",
        "\n",
        "if WindowMode == \"external\":\n",
        "  app.run(jupyter_mode=\"external\", port=PORT, jupyter_height=\"800\")\n",
        "elif WindowMode == \"inline\":\n",
        "  app.run(jupyter_mode=\"external\", port=PORT, jupyter_height=\"800\")\n",
        "elif WindowMode == \"ngrok\":\n",
        "  !pip install pyngrok\n",
        "  from pyngrok import ngrok, conf\n",
        "  import getpass\n",
        "  print(\"Enter your authtoken, which can be copied from https://dashboard.ngrok.com/get-started/your-authtoken\")\n",
        "  conf.get_default().auth_token = getpass.getpass()\n",
        "  public_url = ngrok.connect(PORT).public_url\n",
        "  print(f\"Click this ngrok url {public_url}\")\n",
        "  app.run(jupyter_mode=\"external\", port=PORT, jupyter_height=\"800\")"
      ],
      "metadata": {
        "colab": {
          "base_uri": "https://localhost:8080/",
          "height": 249
        },
        "id": "iDnB2w1DvVfR",
        "outputId": "be14f986-f4eb-44b9-a0ad-4c28957681c4"
      },
      "execution_count": 3,
      "outputs": [
        {
          "output_type": "stream",
          "name": "stdout",
          "text": [
            "Collecting pyngrok\n",
            "  Downloading pyngrok-7.2.8-py3-none-any.whl.metadata (10 kB)\n",
            "Requirement already satisfied: PyYAML>=5.1 in /usr/local/lib/python3.11/dist-packages (from pyngrok) (6.0.2)\n",
            "Downloading pyngrok-7.2.8-py3-none-any.whl (25 kB)\n",
            "Installing collected packages: pyngrok\n",
            "Successfully installed pyngrok-7.2.8\n",
            "Enter your authtoken, which can be copied from https://dashboard.ngrok.com/get-started/your-authtoken\n",
            "··········\n",
            "ngrok url https://6158-34-53-72-57.ngrok-free.app\n",
            "Dash app running on:\n",
            "\u001b[31mWarning: This function may stop working due to changes in browser security.\n",
            "Try `serve_kernel_port_as_iframe` instead. \u001b[0m\n"
          ]
        },
        {
          "output_type": "display_data",
          "data": {
            "text/plain": [
              "<IPython.core.display.Javascript object>"
            ],
            "application/javascript": [
              "(async (port, path, text, element) => {\n",
              "    if (!google.colab.kernel.accessAllowed) {\n",
              "      return;\n",
              "    }\n",
              "    element.appendChild(document.createTextNode(''));\n",
              "    const url = await google.colab.kernel.proxyPort(port);\n",
              "    const anchor = document.createElement('a');\n",
              "    anchor.href = new URL(path, url).toString();\n",
              "    anchor.target = '_blank';\n",
              "    anchor.setAttribute('data-href', url + path);\n",
              "    anchor.textContent = text;\n",
              "    element.appendChild(anchor);\n",
              "  })(8050, \"/\", \"http://127.0.0.1:8050/\", window.element)"
            ]
          },
          "metadata": {}
        }
      ]
    }
  ]
}